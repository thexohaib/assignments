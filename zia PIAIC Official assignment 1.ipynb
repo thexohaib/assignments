{
 "cells": [
  {
   "cell_type": "markdown",
   "metadata": {},
   "source": [
    "# OFFICIAL PIAIC ASSIGNMENT 1 By \"S ZOHAIB IQBAL ABBASI\" ROLL #AIC024415 GULSHAN CAMPUS 12:15 - 3:15 (TEACHER: SIR NASIR)"
   ]
  },
  {
   "cell_type": "markdown",
   "metadata": {},
   "source": [
    "## 1. Calculate Area of a Circle"
   ]
  },
  {
   "cell_type": "markdown",
   "metadata": {},
   "source": [
    "#### Write a Python program which accepts the radius of a circle from the user and compute the area.\n",
    "###### Program Console Sample Output 1:\n",
    "###### Input Radius: 0.5\n",
    "###### Area of Circle with radius 0.5 is 0.7853981634"
   ]
  },
  {
   "cell_type": "code",
   "execution_count": null,
   "metadata": {},
   "outputs": [],
   "source": [
    "# formula for the area of a circle is = (πr)2 while pi/π = 3.1415926535 and r = radius"
   ]
  },
  {
   "cell_type": "code",
   "execution_count": 24,
   "metadata": {},
   "outputs": [
    {
     "name": "stdout",
     "output_type": "stream",
     "text": [
      "Input Radius: 0.5\n",
      "Area of Circle with radius 0.5 is 0.785398\n"
     ]
    }
   ],
   "source": [
    "radius =(float)(input(\"Input Radius: \"))\n",
    "\n",
    "area= 3.141592*radius**2\n",
    "\n",
    "print(F\"Area of Circle with radius {radius} is {area}\")"
   ]
  },
  {
   "cell_type": "markdown",
   "metadata": {},
   "source": [
    "## 2. Check Number either positive, negative or zero"
   ]
  },
  {
   "cell_type": "markdown",
   "metadata": {},
   "source": [
    "#### Write a Python program to check if a number is positive, negative or zero\n",
    "###### Program Console Sample Output 1:\n",
    "###### Enter Number: -1\n",
    "##### Negative Number Entered\n",
    "###### Program Console Sample Output 2:\n",
    "##### Integer: 3\n",
    "##### Positive Number Entered\n",
    "###### Program Console Sample Output 3:\n",
    "##### Integer: 0\n",
    "###### Zero Entered"
   ]
  },
  {
   "cell_type": "code",
   "execution_count": 26,
   "metadata": {},
   "outputs": [
    {
     "name": "stdout",
     "output_type": "stream",
     "text": [
      "enter number2\n",
      "positive number Entered\n"
     ]
    }
   ],
   "source": [
    "num=int(input(\"enter number\"))\n",
    "if num==0:\n",
    "    print (\"Zero Entered\")\n",
    "elif num >0:\n",
    "    print(\"positive number Entered\")\n",
    "else:\n",
    "    print (\"negaitive number Entered\")"
   ]
  },
  {
   "cell_type": "markdown",
   "metadata": {},
   "source": [
    "## 3. Divisibility Check of two numbers"
   ]
  },
  {
   "cell_type": "markdown",
   "metadata": {},
   "source": [
    "#### Write a Python program to check whether a number is completely divisible by another number. Accept two integer values form the user\n",
    "##### Program Console Sample Output 1:\n",
    "###### Enter numerator: 4\n",
    "###### Enter Denominator: 2\n",
    "##### Number 4 is Completely divisible by 2\n",
    "###### Program Console Sample Output 2:\n",
    "##### Enter numerator: 7\n",
    "\n",
    "##### Enter Denominator: 4\n",
    "###### Number 7 is not Completely divisible by 4"
   ]
  },
  {
   "cell_type": "code",
   "execution_count": 29,
   "metadata": {},
   "outputs": [
    {
     "name": "stdout",
     "output_type": "stream",
     "text": [
      "Enter 1st Number: 5\n",
      "Enter 2nd Number: 5\n",
      "Number 5 is completely divisible by 5\n"
     ]
    }
   ],
   "source": [
    "num1=int(input('Enter 1st Number: '))\n",
    "num2=int(input('Enter 2nd Number: '))\n",
    "if num1%num2==0:\n",
    "    print('Number',num1,'is completely divisible by',num2)\n",
    "else:\n",
    "    print('Number',num1,'is not completely divisible by',num2)"
   ]
  },
  {
   "cell_type": "markdown",
   "metadata": {},
   "source": [
    "## 4. Calculate Volume of a sphere"
   ]
  },
  {
   "cell_type": "markdown",
   "metadata": {},
   "source": [
    "##### Write a Python program to get the volume of a sphere, please take the radius as input from user"
   ]
  },
  {
   "cell_type": "markdown",
   "metadata": {},
   "source": [
    "##### Program Console Output:\n",
    "##### Enter Radius of Sphere: 1\n",
    "###### Volume of the Sphere with Radius 1 is 4.18"
   ]
  },
  {
   "cell_type": "code",
   "execution_count": 33,
   "metadata": {},
   "outputs": [
    {
     "name": "stdout",
     "output_type": "stream",
     "text": [
      "enter Radius of sphere: 1\n",
      "Volume of the Sphere with Radius 1 is 4.19047619047619\n"
     ]
    }
   ],
   "source": [
    "#the formula of sphere is V = 4/3 × π × r3 = π × d3/6.\n",
    "pi=22/7\n",
    "radius=int(input(\"enter Radius of sphere: \"))\n",
    "Volume= 4/3*pi*radius**3\n",
    "print(f'Volume of the Sphere with Radius',radius,'is',Volume)"
   ]
  },
  {
   "cell_type": "markdown",
   "metadata": {},
   "source": [
    "## 5. Copy string n times\n",
    "#### Write a Python program to get a string which is n (non-negative integer) copies of a given string.\n",
    "##### Program Console Output:\n",
    "##### Enter String: Hi\n",
    "###### How many copies of String you need: 4\n",
    "###### 4 Copies of Hi are HiHiHiHi"
   ]
  },
  {
   "cell_type": "code",
   "execution_count": 35,
   "metadata": {},
   "outputs": [
    {
     "name": "stdout",
     "output_type": "stream",
     "text": [
      "Enter String: lplk\n",
      "how many copies of string you need: 2\n",
      "2 copies of lplk are lplklplk\n"
     ]
    }
   ],
   "source": [
    "zia = str(input(\"Enter String: \"))\n",
    "zohaib = int(input(\"how many copies of string you need: \"))\n",
    "ans= zohaib*zia\n",
    "print(f'{zohaib} copies of {zia} are {ans}')\n"
   ]
  },
  {
   "cell_type": "markdown",
   "metadata": {},
   "source": [
    "## 6. Check if number is Even or Odd\n",
    "### Write a Python program to find whether a given number (accept from the user) is even or odd, print out an appropriate message to the user\n",
    "#### Program Console Output 1:\n",
    "##### Enter Number: 4\n",
    "###### 4 is Even\n",
    "#### Program Console Output 2:\n",
    "##### Enter Number: 9\n",
    "###### 9 is Odd"
   ]
  },
  {
   "cell_type": "code",
   "execution_count": 39,
   "metadata": {},
   "outputs": [
    {
     "name": "stdout",
     "output_type": "stream",
     "text": [
      "Enter a number: 5\n",
      "5  is Odd \n"
     ]
    }
   ],
   "source": [
    "n = int(input(\"Enter a number: \"))\n",
    "if n%2 == 0:\n",
    "    print( n, \"is Even\")\n",
    "else:\n",
    "    print( n, \" is Odd \")"
   ]
  },
  {
   "cell_type": "markdown",
   "metadata": {},
   "source": [
    "## 7. Vowel Tester\n",
    "### Write a Python program to test whether a passed letter is a vowel or not\n",
    "#### Program Console Output 1:\n",
    "##### Enter a character: A\n",
    "###### Letter A is Vowel\n",
    "#### Program Console Output 2:\n",
    "##### Enter a character: e\n",
    "###### Letter e is Vowel\n",
    "#### Program Console Output 2:\n",
    "##### Enter a character: N\n",
    "###### Letter N is not Vowel"
   ]
  },
  {
   "cell_type": "code",
   "execution_count": 41,
   "metadata": {},
   "outputs": [
    {
     "name": "stdout",
     "output_type": "stream",
     "text": [
      "enter a character: k\n",
      "Letter k is not a vowel\n"
     ]
    }
   ],
   "source": [
    "v=(\"a\",\"e\",\"i\",\"o\",\"u\")\n",
    "l=str(input(\"enter a character: \"))\n",
    "if l in v :\n",
    "    print (\"Letter\" ,l , \"is a vowel\")\n",
    "else:\n",
    "    print(\"Letter\" ,l , \"is not a vowel\")"
   ]
  },
  {
   "cell_type": "markdown",
   "metadata": {},
   "source": [
    "## 8. Triangle area\n",
    "### Write a Python program that will accept the base and height of a triangle and compute the area\n",
    "###### Reference:\n",
    "https://www.mathgoodies.com/lessons/vol1/area_triangle"
   ]
  },
  {
   "cell_type": "code",
   "execution_count": 43,
   "metadata": {},
   "outputs": [
    {
     "name": "stdout",
     "output_type": "stream",
     "text": [
      "enter base of your triangle: 2\n",
      "enter height of your triangle: 2\n",
      "2.0\n"
     ]
    }
   ],
   "source": [
    "b=float(input(\"enter base of your triangle: \"))\n",
    "h=float(input(\"enter height of your triangle: \"))\n",
    "a= (b*h)/2\n",
    "print(a)"
   ]
  },
  {
   "cell_type": "markdown",
   "metadata": {},
   "source": [
    "## 9. Calculate Interest\n",
    "### Write a Python program to compute the future value of a specified principal amount, rate of interest, and a number of years\n",
    "#### Program Console Sample 1:\n",
    "##### Please enter principal amount: 10000\n",
    "###### Please Enter Rate of interest in %: 0.1\n",
    "###### Enter number of years for investment: 5\n",
    "###### After 5 years your principal amount 10000 over an interest rate of 0.1 % will be 16105.1"
   ]
  },
  {
   "cell_type": "code",
   "execution_count": 44,
   "metadata": {},
   "outputs": [],
   "source": [
    "#according to https://www.calculatorsoup.com/calculators/financial/simple-interest-plus-principal-calculator.php\n",
    "#the formula of intrest is A = P(1 + rt) so i'm taking that.\n"
   ]
  },
  {
   "cell_type": "code",
   "execution_count": 45,
   "metadata": {},
   "outputs": [
    {
     "name": "stdout",
     "output_type": "stream",
     "text": [
      "Please enter principal amount: 1000\n",
      "Please enter Rate of interest in %: 1\n",
      "Please enter number of years for investment: 5\n",
      "After 5.0 years your principal amount 1000 over an interest rate of 1.0 % will be 1050 \n"
     ]
    }
   ],
   "source": [
    "amount=int(input(\"Please enter principal amount: \"))\n",
    "rate=float(input(\"Please enter Rate of interest in %: \"))\n",
    "time=float(input(\"Please enter number of years for investment: \"))\n",
    "total = round(amount*(1+((rate/100)*time)))\n",
    "print(f'After {time} years your principal amount {amount} over an interest rate of {rate} % will be {total} ')\n"
   ]
  },
  {
   "cell_type": "markdown",
   "metadata": {},
   "source": [
    "## 10. Euclidean distance\n",
    "### write a Python program to compute the distance between the points (x1, y1) and (x2, y2).\n",
    "#### Program Console Sample 1:\n",
    "###### Enter Co-ordinate for x1: 2\n",
    "###### Enter Co-ordinate for x2: 4\n",
    "###### Enter Co-ordinate for y1: 4\n",
    "###### Enter Co-ordinate for y2: 4\n",
    "###### Distance between points (2, 4) and (4, 4) is 2"
   ]
  },
  {
   "cell_type": "markdown",
   "metadata": {},
   "source": [
    "###### Reference:\n",
    "https://en.wikipedia.org/wiki/Euclidean_distance"
   ]
  },
  {
   "cell_type": "code",
   "execution_count": 8,
   "metadata": {},
   "outputs": [
    {
     "name": "stdout",
     "output_type": "stream",
     "text": [
      "Enter Co-ordinate for x1: 2\n",
      "Enter Co-ordinate for x2: 4\n",
      "Enter Co-ordinate for y1: 4\n",
      "Enter Co-ordinate for y2: 4\n",
      " Distance between points ( 2, 4) and (4,4 ) is 2\n"
     ]
    }
   ],
   "source": [
    "x1=int(input(\"Enter Co-ordinate for x1: \"))\n",
    "x2=int(input(\"Enter Co-ordinate for x2: \"))\n",
    "y1=int(input(\"Enter Co-ordinate for y1: \"))\n",
    "y2=int(input(\"Enter Co-ordinate for y2: \"))\n",
    "distance= int((((x2-x1)**2)+((y2-y1)**2))**0.5)\n",
    "print(f' Distance between points ( {x1}, {x2}) and ({y1},{y2} ) is {distance}')"
   ]
  },
  {
   "cell_type": "markdown",
   "metadata": {},
   "source": [
    "## 11. Feet to Centimeter Converter\n",
    "### Write a Python program to convert height in feet to centimetres.\n",
    "##### Program Console Sample 1:\n",
    "###### Enter Height in Feet: 5\n",
    "###### There are 152.4 Cm in 5 ft\n",
    "###### Reference:\n",
    "https://www.rapidtables.com/convert/length/feet-to-cm.html"
   ]
  },
  {
   "cell_type": "code",
   "execution_count": 11,
   "metadata": {},
   "outputs": [
    {
     "name": "stdout",
     "output_type": "stream",
     "text": [
      "Enter Height in Feet: 5\n",
      " There are 152.4 Cm in 5 ft\n"
     ]
    }
   ],
   "source": [
    "h=int(input(\"Enter Height in Feet: \"))\n",
    "ans= h * 30.48\n",
    "print(f' There are {ans} Cm in {h} ft')"
   ]
  },
  {
   "cell_type": "markdown",
   "metadata": {},
   "source": [
    "## 12. BMI Calculator\n",
    "### Write a Python program to calculate body mass index\n",
    "##### Program Console Sample 1:\n",
    "###### Enter Height in Cm: 180\n",
    "###### Enter Weight in Kg: 75\n",
    "###### Your BMI is 23.15"
   ]
  },
  {
   "cell_type": "code",
   "execution_count": 1,
   "metadata": {},
   "outputs": [
    {
     "name": "stdout",
     "output_type": "stream",
     "text": [
      "Enter Height in Cm: 180\n",
      "Enter Weight in Kg: 75\n",
      "Your BMI is 23.15\n"
     ]
    }
   ],
   "source": [
    "h=int(input(\"Enter Height in Cm: \"))\n",
    "w=int(input(\"Enter Weight in Kg: \"))\n",
    "bmi= w/(h/100)**2 \n",
    "BMI = round(bmi,2)\n",
    "print (f'Your BMI is {BMI}')"
   ]
  },
  {
   "cell_type": "markdown",
   "metadata": {},
   "source": [
    "## 13. Sum of n Positive Integers\n",
    "### Write a python program to sum of the first n positive integers\n",
    "#### Program Console Sample 1:\n",
    "###### Enter value of n: 5\n",
    "###### Sum of n Positive integers till 5 is 15"
   ]
  },
  {
   "cell_type": "code",
   "execution_count": 23,
   "metadata": {},
   "outputs": [
    {
     "name": "stdout",
     "output_type": "stream",
     "text": [
      "enter a positive 1 digit value of n: 6\n",
      "Sum of n Positive integers till 6 is 21.0\n"
     ]
    }
   ],
   "source": [
    "n = int(input(\"enter a positive 1 digit value of n: \"))\n",
    "sum = (n * (n + 1)) / 2\n",
    "print(f'Sum of n Positive integers till {n} is {sum}')"
   ]
  },
  {
   "cell_type": "markdown",
   "metadata": {},
   "source": [
    "## 14. Digits Sum of a Number\n",
    "### Write a Python program to calculate the sum of the digits in an integer\n",
    "#### Program Console Sample 1:\n",
    "##### Enter a number: 15\n",
    "###### Sum of 1 + 5 is 6\n",
    "#### Program Console Sample 2:\n",
    "##### Enter a number: 1234\n",
    "###### Sum of 1 + 2 + 3 + 4 is 10"
   ]
  },
  {
   "cell_type": "code",
   "execution_count": 18,
   "metadata": {},
   "outputs": [
    {
     "name": "stdout",
     "output_type": "stream",
     "text": [
      "Input a four digit numbers: 5426\n",
      "The sum of digits in the number is 17\n"
     ]
    }
   ],
   "source": [
    "num = int(input(\"Input a four digit numbers: \"))\n",
    "x  = num //1000\n",
    "x1 = (num - x*1000)//100\n",
    "x2 = (num - x*1000 - x1*100)//10\n",
    "x3 = num - x*1000 - x1*100 - x2*10\n",
    "print(\"The sum of digits in the number is\", x+x1+x2+x3)"
   ]
  }
 ],
 "metadata": {
  "kernelspec": {
   "display_name": "Python 3",
   "language": "python",
   "name": "python3"
  },
  "language_info": {
   "codemirror_mode": {
    "name": "ipython",
    "version": 3
   },
   "file_extension": ".py",
   "mimetype": "text/x-python",
   "name": "python",
   "nbconvert_exporter": "python",
   "pygments_lexer": "ipython3",
   "version": "3.7.3"
  }
 },
 "nbformat": 4,
 "nbformat_minor": 2
}
